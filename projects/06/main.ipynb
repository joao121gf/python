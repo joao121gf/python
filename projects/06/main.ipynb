{
 "cells": [
  {
   "cell_type": "code",
   "execution_count": 94,
   "metadata": {},
   "outputs": [],
   "source": [
    "import pandas as pd\n",
    "from IPython.display import display"
   ]
  },
  {
   "cell_type": "code",
   "execution_count": 95,
   "metadata": {},
   "outputs": [
    {
     "data": {
      "text/html": [
       "<div>\n",
       "<style scoped>\n",
       "    .dataframe tbody tr th:only-of-type {\n",
       "        vertical-align: middle;\n",
       "    }\n",
       "\n",
       "    .dataframe tbody tr th {\n",
       "        vertical-align: top;\n",
       "    }\n",
       "\n",
       "    .dataframe thead th {\n",
       "        text-align: right;\n",
       "    }\n",
       "</style>\n",
       "<table border=\"1\" class=\"dataframe\">\n",
       "  <thead>\n",
       "    <tr style=\"text-align: right;\">\n",
       "      <th></th>\n",
       "      <th>Nome</th>\n",
       "      <th>Idade</th>\n",
       "      <th>Cidade</th>\n",
       "      <th>Salário</th>\n",
       "      <th>Departamento</th>\n",
       "    </tr>\n",
       "  </thead>\n",
       "  <tbody>\n",
       "    <tr>\n",
       "      <th>0</th>\n",
       "      <td>Ana</td>\n",
       "      <td>25</td>\n",
       "      <td>São Paulo</td>\n",
       "      <td>3500</td>\n",
       "      <td>TI</td>\n",
       "    </tr>\n",
       "    <tr>\n",
       "      <th>1</th>\n",
       "      <td>Bruno</td>\n",
       "      <td>30</td>\n",
       "      <td>Rio de Janeiro</td>\n",
       "      <td>4200</td>\n",
       "      <td>Vendas</td>\n",
       "    </tr>\n",
       "    <tr>\n",
       "      <th>2</th>\n",
       "      <td>Carlos</td>\n",
       "      <td>28</td>\n",
       "      <td>Belo Horizonte</td>\n",
       "      <td>3900</td>\n",
       "      <td>TI</td>\n",
       "    </tr>\n",
       "    <tr>\n",
       "      <th>3</th>\n",
       "      <td>Daniela</td>\n",
       "      <td>35</td>\n",
       "      <td>Curitiba</td>\n",
       "      <td>4500</td>\n",
       "      <td>RH</td>\n",
       "    </tr>\n",
       "    <tr>\n",
       "      <th>4</th>\n",
       "      <td>Eduardo</td>\n",
       "      <td>40</td>\n",
       "      <td>São Paulo</td>\n",
       "      <td>5000</td>\n",
       "      <td>Financeiro</td>\n",
       "    </tr>\n",
       "    <tr>\n",
       "      <th>5</th>\n",
       "      <td>Fernanda</td>\n",
       "      <td>29</td>\n",
       "      <td>Rio de Janeiro</td>\n",
       "      <td>3800</td>\n",
       "      <td>Vendas</td>\n",
       "    </tr>\n",
       "    <tr>\n",
       "      <th>6</th>\n",
       "      <td>Gabriel</td>\n",
       "      <td>32</td>\n",
       "      <td>Belo Horizonte</td>\n",
       "      <td>4100</td>\n",
       "      <td>TI</td>\n",
       "    </tr>\n",
       "    <tr>\n",
       "      <th>7</th>\n",
       "      <td>Heloísa</td>\n",
       "      <td>26</td>\n",
       "      <td>Curitiba</td>\n",
       "      <td>3600</td>\n",
       "      <td>RH</td>\n",
       "    </tr>\n",
       "  </tbody>\n",
       "</table>\n",
       "</div>"
      ],
      "text/plain": [
       "       Nome  Idade          Cidade  Salário Departamento\n",
       "0       Ana     25       São Paulo     3500           TI\n",
       "1     Bruno     30  Rio de Janeiro     4200       Vendas\n",
       "2    Carlos     28  Belo Horizonte     3900           TI\n",
       "3   Daniela     35        Curitiba     4500           RH\n",
       "4   Eduardo     40       São Paulo     5000   Financeiro\n",
       "5  Fernanda     29  Rio de Janeiro     3800       Vendas\n",
       "6   Gabriel     32  Belo Horizonte     4100           TI\n",
       "7   Heloísa     26        Curitiba     3600           RH"
      ]
     },
     "metadata": {},
     "output_type": "display_data"
    }
   ],
   "source": [
    "employees = {\n",
    "    'Nome': ['Ana', 'Bruno', 'Carlos', 'Daniela', 'Eduardo', 'Fernanda', 'Gabriel', 'Heloísa'],\n",
    "    'Idade': [25, 30, 28, 35, 40, 29, 32, 26],\n",
    "    'Cidade': ['São Paulo', 'Rio de Janeiro', 'Belo Horizonte', 'Curitiba', \n",
    "               'São Paulo', 'Rio de Janeiro', 'Belo Horizonte', 'Curitiba'],\n",
    "    'Salário': [3500, 4200, 3900, 4500, 5000, 3800, 4100, 3600],\n",
    "    'Departamento': ['TI', 'Vendas', 'TI', 'RH', 'Financeiro', 'Vendas', 'TI', 'RH']\n",
    "}\n",
    "df = pd.DataFrame(employees)\n",
    "display(df)"
   ]
  },
  {
   "cell_type": "code",
   "execution_count": 96,
   "metadata": {},
   "outputs": [
    {
     "data": {
      "text/plain": [
       "'The mean salaryal of employees is: 4075.0'"
      ]
     },
     "metadata": {},
     "output_type": "display_data"
    }
   ],
   "source": [
    "# media_salarial = df.groupby('')\n",
    "display(f'The mean salaryal of employees is: {df['Salário'].mean()}')"
   ]
  },
  {
   "cell_type": "code",
   "execution_count": 97,
   "metadata": {},
   "outputs": [
    {
     "data": {
      "text/plain": [
       "'The minimum salary is:'"
      ]
     },
     "metadata": {},
     "output_type": "display_data"
    },
    {
     "data": {
      "text/html": [
       "<div>\n",
       "<style scoped>\n",
       "    .dataframe tbody tr th:only-of-type {\n",
       "        vertical-align: middle;\n",
       "    }\n",
       "\n",
       "    .dataframe tbody tr th {\n",
       "        vertical-align: top;\n",
       "    }\n",
       "\n",
       "    .dataframe thead th {\n",
       "        text-align: right;\n",
       "    }\n",
       "</style>\n",
       "<table border=\"1\" class=\"dataframe\">\n",
       "  <thead>\n",
       "    <tr style=\"text-align: right;\">\n",
       "      <th></th>\n",
       "      <th>Nome</th>\n",
       "      <th>Idade</th>\n",
       "      <th>Cidade</th>\n",
       "      <th>Salário</th>\n",
       "      <th>Departamento</th>\n",
       "    </tr>\n",
       "  </thead>\n",
       "  <tbody>\n",
       "    <tr>\n",
       "      <th>0</th>\n",
       "      <td>Ana</td>\n",
       "      <td>25</td>\n",
       "      <td>São Paulo</td>\n",
       "      <td>3500</td>\n",
       "      <td>TI</td>\n",
       "    </tr>\n",
       "  </tbody>\n",
       "</table>\n",
       "</div>"
      ],
      "text/plain": [
       "  Nome  Idade     Cidade  Salário Departamento\n",
       "0  Ana     25  São Paulo     3500           TI"
      ]
     },
     "metadata": {},
     "output_type": "display_data"
    }
   ],
   "source": [
    "min = df.groupby('Nome', as_index=False)['Salário'].sum().sort_values('Salário')\n",
    "min_name = min.iloc[0]['Nome']\n",
    "min_line = df[df['Nome'] == min_name]\n",
    "display(f'The minimum salary is:')\n",
    "display(min_line)\n"
   ]
  },
  {
   "cell_type": "code",
   "execution_count": 98,
   "metadata": {},
   "outputs": [
    {
     "data": {
      "text/plain": [
       "'The Max Salary'"
      ]
     },
     "metadata": {},
     "output_type": "display_data"
    },
    {
     "data": {
      "text/html": [
       "<div>\n",
       "<style scoped>\n",
       "    .dataframe tbody tr th:only-of-type {\n",
       "        vertical-align: middle;\n",
       "    }\n",
       "\n",
       "    .dataframe tbody tr th {\n",
       "        vertical-align: top;\n",
       "    }\n",
       "\n",
       "    .dataframe thead th {\n",
       "        text-align: right;\n",
       "    }\n",
       "</style>\n",
       "<table border=\"1\" class=\"dataframe\">\n",
       "  <thead>\n",
       "    <tr style=\"text-align: right;\">\n",
       "      <th></th>\n",
       "      <th>Nome</th>\n",
       "      <th>Salário</th>\n",
       "    </tr>\n",
       "  </thead>\n",
       "  <tbody>\n",
       "    <tr>\n",
       "      <th>4</th>\n",
       "      <td>Eduardo</td>\n",
       "      <td>5000</td>\n",
       "    </tr>\n",
       "    <tr>\n",
       "      <th>3</th>\n",
       "      <td>Daniela</td>\n",
       "      <td>4500</td>\n",
       "    </tr>\n",
       "    <tr>\n",
       "      <th>1</th>\n",
       "      <td>Bruno</td>\n",
       "      <td>4200</td>\n",
       "    </tr>\n",
       "    <tr>\n",
       "      <th>6</th>\n",
       "      <td>Gabriel</td>\n",
       "      <td>4100</td>\n",
       "    </tr>\n",
       "    <tr>\n",
       "      <th>2</th>\n",
       "      <td>Carlos</td>\n",
       "      <td>3900</td>\n",
       "    </tr>\n",
       "    <tr>\n",
       "      <th>5</th>\n",
       "      <td>Fernanda</td>\n",
       "      <td>3800</td>\n",
       "    </tr>\n",
       "    <tr>\n",
       "      <th>7</th>\n",
       "      <td>Heloísa</td>\n",
       "      <td>3600</td>\n",
       "    </tr>\n",
       "    <tr>\n",
       "      <th>0</th>\n",
       "      <td>Ana</td>\n",
       "      <td>3500</td>\n",
       "    </tr>\n",
       "  </tbody>\n",
       "</table>\n",
       "</div>"
      ],
      "text/plain": [
       "       Nome  Salário\n",
       "4   Eduardo     5000\n",
       "3   Daniela     4500\n",
       "1     Bruno     4200\n",
       "6   Gabriel     4100\n",
       "2    Carlos     3900\n",
       "5  Fernanda     3800\n",
       "7   Heloísa     3600\n",
       "0       Ana     3500"
      ]
     },
     "metadata": {},
     "output_type": "display_data"
    },
    {
     "data": {
      "text/plain": [
       "'Eduardo'"
      ]
     },
     "metadata": {},
     "output_type": "display_data"
    },
    {
     "data": {
      "text/html": [
       "<div>\n",
       "<style scoped>\n",
       "    .dataframe tbody tr th:only-of-type {\n",
       "        vertical-align: middle;\n",
       "    }\n",
       "\n",
       "    .dataframe tbody tr th {\n",
       "        vertical-align: top;\n",
       "    }\n",
       "\n",
       "    .dataframe thead th {\n",
       "        text-align: right;\n",
       "    }\n",
       "</style>\n",
       "<table border=\"1\" class=\"dataframe\">\n",
       "  <thead>\n",
       "    <tr style=\"text-align: right;\">\n",
       "      <th></th>\n",
       "      <th>Nome</th>\n",
       "      <th>Idade</th>\n",
       "      <th>Cidade</th>\n",
       "      <th>Salário</th>\n",
       "      <th>Departamento</th>\n",
       "    </tr>\n",
       "  </thead>\n",
       "  <tbody>\n",
       "    <tr>\n",
       "      <th>4</th>\n",
       "      <td>Eduardo</td>\n",
       "      <td>40</td>\n",
       "      <td>São Paulo</td>\n",
       "      <td>5000</td>\n",
       "      <td>Financeiro</td>\n",
       "    </tr>\n",
       "  </tbody>\n",
       "</table>\n",
       "</div>"
      ],
      "text/plain": [
       "      Nome  Idade     Cidade  Salário Departamento\n",
       "4  Eduardo     40  São Paulo     5000   Financeiro"
      ]
     },
     "metadata": {},
     "output_type": "display_data"
    }
   ],
   "source": [
    "display('The Max Salary')\n",
    "max = df.groupby('Nome', as_index=False)['Salário'].max().sort_values('Salário', ascending=False)\n",
    "name_max = max.iloc[0]['Nome']\n",
    "line2= df[df['Nome'] == name_max]\n",
    "display(max)\n",
    "display(name_max)\n",
    "display(line2)"
   ]
  },
  {
   "cell_type": "code",
   "execution_count": 99,
   "metadata": {},
   "outputs": [
    {
     "data": {
      "text/plain": [
       "np.float64(4000.0)"
      ]
     },
     "metadata": {},
     "output_type": "display_data"
    }
   ],
   "source": [
    "medium = df['Salário'].median()\n",
    "display(medium)\n",
    "\n"
   ]
  },
  {
   "cell_type": "code",
   "execution_count": 103,
   "metadata": {},
   "outputs": [
    {
     "data": {
      "text/plain": [
       "Departamento\n",
       "Financeiro    5000.000000\n",
       "RH            4050.000000\n",
       "TI            3833.333333\n",
       "Vendas        4000.000000\n",
       "Name: Salário, dtype: float64"
      ]
     },
     "metadata": {},
     "output_type": "display_data"
    }
   ],
   "source": [
    "media_department = df.groupby('Departamento')['Salário'].mean()\n",
    "display(media_department)"
   ]
  },
  {
   "cell_type": "code",
   "execution_count": 115,
   "metadata": {},
   "outputs": [
    {
     "data": {
      "text/plain": [
       "Cidade\n",
       "Belo Horizonte    2\n",
       "Curitiba          2\n",
       "Rio de Janeiro    2\n",
       "São Paulo         2\n",
       "Name: Cidade, dtype: int64"
      ]
     },
     "metadata": {},
     "output_type": "display_data"
    },
    {
     "data": {
      "text/plain": [
       "'São Paulo'"
      ]
     },
     "metadata": {},
     "output_type": "display_data"
    }
   ],
   "source": [
    "employ_city = df.groupby('Cidade')['Cidade'].count()\n",
    "display(employ_city)\n",
    "higher_medium = df.groupby('Cidade')['Salário'].mean().sort_values(ascending=False).index[0]\n",
    "\n",
    "display(higher_medium)"
   ]
  },
  {
   "cell_type": "code",
   "execution_count": 126,
   "metadata": {},
   "outputs": [
    {
     "data": {
      "text/html": [
       "<div>\n",
       "<style scoped>\n",
       "    .dataframe tbody tr th:only-of-type {\n",
       "        vertical-align: middle;\n",
       "    }\n",
       "\n",
       "    .dataframe tbody tr th {\n",
       "        vertical-align: top;\n",
       "    }\n",
       "\n",
       "    .dataframe thead th {\n",
       "        text-align: right;\n",
       "    }\n",
       "</style>\n",
       "<table border=\"1\" class=\"dataframe\">\n",
       "  <thead>\n",
       "    <tr style=\"text-align: right;\">\n",
       "      <th></th>\n",
       "      <th>Nome</th>\n",
       "      <th>Idade</th>\n",
       "      <th>Cidade</th>\n",
       "      <th>Salário</th>\n",
       "      <th>Departamento</th>\n",
       "      <th>Faixa_Etária</th>\n",
       "    </tr>\n",
       "  </thead>\n",
       "  <tbody>\n",
       "    <tr>\n",
       "      <th>0</th>\n",
       "      <td>Ana</td>\n",
       "      <td>25</td>\n",
       "      <td>São Paulo</td>\n",
       "      <td>3500</td>\n",
       "      <td>TI</td>\n",
       "      <td>Jovem</td>\n",
       "    </tr>\n",
       "    <tr>\n",
       "      <th>1</th>\n",
       "      <td>Bruno</td>\n",
       "      <td>30</td>\n",
       "      <td>Rio de Janeiro</td>\n",
       "      <td>4200</td>\n",
       "      <td>Vendas</td>\n",
       "      <td>Adulto</td>\n",
       "    </tr>\n",
       "    <tr>\n",
       "      <th>2</th>\n",
       "      <td>Carlos</td>\n",
       "      <td>28</td>\n",
       "      <td>Belo Horizonte</td>\n",
       "      <td>3900</td>\n",
       "      <td>TI</td>\n",
       "      <td>Jovem</td>\n",
       "    </tr>\n",
       "    <tr>\n",
       "      <th>3</th>\n",
       "      <td>Daniela</td>\n",
       "      <td>35</td>\n",
       "      <td>Curitiba</td>\n",
       "      <td>4500</td>\n",
       "      <td>RH</td>\n",
       "      <td>Adulto</td>\n",
       "    </tr>\n",
       "    <tr>\n",
       "      <th>4</th>\n",
       "      <td>Eduardo</td>\n",
       "      <td>40</td>\n",
       "      <td>São Paulo</td>\n",
       "      <td>5000</td>\n",
       "      <td>Financeiro</td>\n",
       "      <td>Adulto</td>\n",
       "    </tr>\n",
       "    <tr>\n",
       "      <th>5</th>\n",
       "      <td>Fernanda</td>\n",
       "      <td>29</td>\n",
       "      <td>Rio de Janeiro</td>\n",
       "      <td>3800</td>\n",
       "      <td>Vendas</td>\n",
       "      <td>Jovem</td>\n",
       "    </tr>\n",
       "    <tr>\n",
       "      <th>6</th>\n",
       "      <td>Gabriel</td>\n",
       "      <td>32</td>\n",
       "      <td>Belo Horizonte</td>\n",
       "      <td>4100</td>\n",
       "      <td>TI</td>\n",
       "      <td>Adulto</td>\n",
       "    </tr>\n",
       "    <tr>\n",
       "      <th>7</th>\n",
       "      <td>Heloísa</td>\n",
       "      <td>26</td>\n",
       "      <td>Curitiba</td>\n",
       "      <td>3600</td>\n",
       "      <td>RH</td>\n",
       "      <td>Jovem</td>\n",
       "    </tr>\n",
       "  </tbody>\n",
       "</table>\n",
       "</div>"
      ],
      "text/plain": [
       "       Nome  Idade          Cidade  Salário Departamento Faixa_Etária\n",
       "0       Ana     25       São Paulo     3500           TI        Jovem\n",
       "1     Bruno     30  Rio de Janeiro     4200       Vendas       Adulto\n",
       "2    Carlos     28  Belo Horizonte     3900           TI        Jovem\n",
       "3   Daniela     35        Curitiba     4500           RH       Adulto\n",
       "4   Eduardo     40       São Paulo     5000   Financeiro       Adulto\n",
       "5  Fernanda     29  Rio de Janeiro     3800       Vendas        Jovem\n",
       "6   Gabriel     32  Belo Horizonte     4100           TI       Adulto\n",
       "7   Heloísa     26        Curitiba     3600           RH        Jovem"
      ]
     },
     "metadata": {},
     "output_type": "display_data"
    }
   ],
   "source": [
    "import numpy as np\n",
    "df['Faixa_Etária'] = 'Desconhecida'\n",
    "condicoes = [\n",
    "    (df['Idade'] <= 29), \n",
    "    (df['Idade'] >= 30) & (df['Idade'] <= 59),  \n",
    "    (df['Idade'] >= 60) \n",
    "]\n",
    "valores = ['Jovem', 'Adulto', 'Idoso']\n",
    "df['Faixa_Etária'] = np.select(condicoes, valores, default='Desconhecida')\n",
    "\n",
    "display(df)"
   ]
  }
 ],
 "metadata": {
  "kernelspec": {
   "display_name": "Python 3",
   "language": "python",
   "name": "python3"
  },
  "language_info": {
   "codemirror_mode": {
    "name": "ipython",
    "version": 3
   },
   "file_extension": ".py",
   "mimetype": "text/x-python",
   "name": "python",
   "nbconvert_exporter": "python",
   "pygments_lexer": "ipython3",
   "version": "3.13.1"
  }
 },
 "nbformat": 4,
 "nbformat_minor": 2
}
