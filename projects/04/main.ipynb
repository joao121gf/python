{
 "cells": [
  {
   "cell_type": "code",
   "execution_count": 4,
   "metadata": {},
   "outputs": [],
   "source": [
    "import pandas as pd\n",
    "employees = {\n",
    "    'Nome': ['Ana', 'Bruno', 'Carlos', 'Daniela'],\n",
    "    'Idade': [25,30,28,35],\n",
    "    'Cidade': ['São Paulo', 'Rio de Janeiro', 'Belo horizonte', 'Curitibia'],\n",
    "    'Salário': [3500, 4200, 3900, 4500]\n",
    "}\n",
    "\n",
    "df_employ = pd.DataFrame(employees)\n",
    "df_employ.to_csv('employees.csv', sep=',', index=False)\n"
   ]
  },
  {
   "cell_type": "markdown",
   "metadata": {},
   "source": [
    "MOSTRE AS DUAS PRIMEIRAS LINHAS DO DATAFRAME"
   ]
  },
  {
   "cell_type": "code",
   "execution_count": 7,
   "metadata": {},
   "outputs": [
    {
     "name": "stdout",
     "output_type": "stream",
     "text": [
      "    Nome  Idade          Cidade  Salário\n",
      "0    Ana     25       São Paulo     3500\n",
      "1  Bruno     30  Rio de Janeiro     4200\n"
     ]
    }
   ],
   "source": [
    "url = 'employees.csv'\n",
    "data = pd.read_csv(url, sep=',')\n",
    "print(data.head(2))"
   ]
  },
  {
   "cell_type": "code",
   "execution_count": 11,
   "metadata": {},
   "outputs": [
    {
     "name": "stdout",
     "output_type": "stream",
     "text": [
      "<class 'pandas.core.frame.DataFrame'>\n",
      "RangeIndex: 4 entries, 0 to 3\n",
      "Data columns (total 4 columns):\n",
      " #   Column   Non-Null Count  Dtype \n",
      "---  ------   --------------  ----- \n",
      " 0   Nome     4 non-null      object\n",
      " 1   Idade    4 non-null      int64 \n",
      " 2   Cidade   4 non-null      object\n",
      " 3   Salário  4 non-null      int64 \n",
      "dtypes: int64(2), object(2)\n",
      "memory usage: 260.0+ bytes\n",
      "None\n",
      "-------------------\n",
      "Nome       0\n",
      "Idade      0\n",
      "Cidade     0\n",
      "Salário    0\n",
      "dtype: int64\n"
     ]
    }
   ],
   "source": [
    "# Passo 4: Obter informações gerais do DataFrame\n",
    "# Use um método para ver o tipo de cada coluna e quantos valores não nulos existem.\n",
    "print(data.info())\n",
    "print('-------------------')\n",
    "print(data.isnull().sum())"
   ]
  },
  {
   "cell_type": "code",
   "execution_count": null,
   "metadata": {},
   "outputs": [],
   "source": [
    "#Passo 5: Filtrar dados\n",
    "# Filtre e mostre apenas os registros onde o salário é maior que 4000."
   ]
  },
  {
   "cell_type": "code",
   "execution_count": 12,
   "metadata": {},
   "outputs": [
    {
     "name": "stdout",
     "output_type": "stream",
     "text": [
      "      Nome  Idade          Cidade  Salário\n",
      "1    Bruno     30  Rio de Janeiro     4200\n",
      "3  Daniela     35       Curitibia     4500\n"
     ]
    }
   ],
   "source": [
    "print(data[data['Salário'] > 4000])"
   ]
  },
  {
   "cell_type": "code",
   "execution_count": 13,
   "metadata": {},
   "outputs": [
    {
     "name": "stdout",
     "output_type": "stream",
     "text": [
      "      Nome  Idade          Cidade  Salário  Salario_Anual\n",
      "0      Ana     25       São Paulo     3500          42000\n",
      "1    Bruno     30  Rio de Janeiro     4200          50400\n",
      "2   Carlos     28  Belo horizonte     3900          46800\n",
      "3  Daniela     35       Curitibia     4500          54000\n"
     ]
    }
   ],
   "source": [
    "# Passo 6: Criar uma nova coluna\n",
    "# Crie uma nova coluna chamada Salario_Anual, que é o salário multiplicado por 12.\n",
    "\n",
    "data['Salario_Anual'] = data['Salário'] * 12\n",
    "print(data)"
   ]
  }
 ],
 "metadata": {
  "kernelspec": {
   "display_name": "Python 3",
   "language": "python",
   "name": "python3"
  },
  "language_info": {
   "codemirror_mode": {
    "name": "ipython",
    "version": 3
   },
   "file_extension": ".py",
   "mimetype": "text/x-python",
   "name": "python",
   "nbconvert_exporter": "python",
   "pygments_lexer": "ipython3",
   "version": "3.13.1"
  }
 },
 "nbformat": 4,
 "nbformat_minor": 2
}
