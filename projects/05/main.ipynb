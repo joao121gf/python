{
 "cells": [
  {
   "cell_type": "code",
   "execution_count": 7,
   "metadata": {},
   "outputs": [],
   "source": [
    "\n",
    "employees = {\n",
    "    'Nome': ['Ana', 'Bruno', 'Carlos', 'Daniela', 'Eduardo', 'Fernanda', 'Gustavo', 'Heloísa'],\n",
    "    'Idade': [25, 30, 28, 35, 40, 22, 27, 33],\n",
    "    'Cidade': ['São Paulo', 'Rio de Janeiro', 'Belo Horizonte', 'Curitiba', 'São Paulo', 'Rio de Janeiro', 'Curitiba', 'Belo Horizonte'],\n",
    "    'Salário': [3500, 4200, 3900, 4500, 7000, 3200, 4100, 3800],\n",
    "    'Setor': ['TI', 'Financeiro', 'TI', 'RH', 'Diretoria', 'Financeiro', 'TI', 'RH']\n",
    "}\n",
    "\n",
    "df = pd.DataFrame(employees)\n",
    "df.to_csv('employees.csv', sep=',', index=False)"
   ]
  },
  {
   "cell_type": "code",
   "execution_count": 8,
   "metadata": {},
   "outputs": [
    {
     "name": "stdout",
     "output_type": "stream",
     "text": [
      "       Nome  Idade          Cidade  Salário       Setor\n",
      "0       Ana     25       São Paulo     3500          TI\n",
      "1     Bruno     30  Rio de Janeiro     4200  Financeiro\n",
      "2    Carlos     28  Belo Horizonte     3900          TI\n",
      "3   Daniela     35        Curitiba     4500          RH\n",
      "4   Eduardo     40       São Paulo     7000   Diretoria\n",
      "5  Fernanda     22  Rio de Janeiro     3200  Financeiro\n",
      "6   Gustavo     27        Curitiba     4100          TI\n",
      "7   Heloísa     33  Belo Horizonte     3800          RH\n"
     ]
    }
   ],
   "source": [
    "#Import database\n",
    "data = pd.read_csv('employees.csv', sep=',')\n",
    "print(data)"
   ]
  },
  {
   "cell_type": "code",
   "execution_count": 9,
   "metadata": {},
   "outputs": [
    {
     "name": "stdout",
     "output_type": "stream",
     "text": [
      "<class 'pandas.core.frame.DataFrame'>\n",
      "RangeIndex: 8 entries, 0 to 7\n",
      "Data columns (total 5 columns):\n",
      " #   Column   Non-Null Count  Dtype \n",
      "---  ------   --------------  ----- \n",
      " 0   Nome     8 non-null      object\n",
      " 1   Idade    8 non-null      int64 \n",
      " 2   Cidade   8 non-null      object\n",
      " 3   Salário  8 non-null      int64 \n",
      " 4   Setor    8 non-null      object\n",
      "dtypes: int64(2), object(3)\n",
      "memory usage: 452.0+ bytes\n",
      "None\n"
     ]
    }
   ],
   "source": [
    "#INFOS:\n",
    "print(data.info())"
   ]
  },
  {
   "cell_type": "code",
   "execution_count": 10,
   "metadata": {},
   "outputs": [
    {
     "name": "stdout",
     "output_type": "stream",
     "text": [
      "MEDIA SALARIAL POR SETOR\n",
      "Setor\n",
      "Diretoria     7000.000000\n",
      "RH            4150.000000\n",
      "TI            3833.333333\n",
      "Financeiro    3700.000000\n",
      "Name: Salário, dtype: float64\n"
     ]
    }
   ],
   "source": [
    "print('MEDIA SALARIAL POR SETOR')\n",
    "media_setor = data.groupby('Setor')['Salário'].mean().sort_values(ascending=False)\n",
    "print(media_setor)"
   ]
  },
  {
   "cell_type": "code",
   "execution_count": 11,
   "metadata": {},
   "outputs": [
    {
     "name": "stdout",
     "output_type": "stream",
     "text": [
      "Quantidade de funcionarios por cidade\n",
      "Cidade\n",
      "Belo Horizonte    2\n",
      "Curitiba          2\n",
      "Rio de Janeiro    2\n",
      "São Paulo         2\n",
      "Name: Cidade, dtype: int64\n"
     ]
    }
   ],
   "source": [
    "print('Quantidade de funcionarios por cidade')\n",
    "dd = data.groupby('Cidade')['Cidade'].count()\n",
    "print(dd)"
   ]
  },
  {
   "cell_type": "code",
   "execution_count": 12,
   "metadata": {},
   "outputs": [
    {
     "name": "stdout",
     "output_type": "stream",
     "text": [
      "Pessoa com maior salario\n",
      "Nome\n",
      "Eduardo     7000\n",
      "Daniela     4500\n",
      "Bruno       4200\n",
      "Gustavo     4100\n",
      "Carlos      3900\n",
      "Heloísa     3800\n",
      "Ana         3500\n",
      "Fernanda    3200\n",
      "Name: Salário, dtype: int64\n"
     ]
    }
   ],
   "source": [
    "print('Pessoa com maior salario')\n",
    "maior_salario = data.groupby('Nome')['Salário'].max().sort_values(ascending=False)\n",
    "print(maior_salario)"
   ]
  },
  {
   "cell_type": "code",
   "execution_count": 13,
   "metadata": {},
   "outputs": [
    {
     "name": "stdout",
     "output_type": "stream",
     "text": [
      "Nome         Eduardo\n",
      "Idade             40\n",
      "Cidade     São Paulo\n",
      "Salário         7000\n",
      "Setor      Diretoria\n",
      "Name: 4, dtype: object\n"
     ]
    }
   ],
   "source": [
    "especific = data.loc[data.groupby('Nome')['Salário'].idxmax()].sort_values('Salário', ascending=False).iloc[0]\n",
    "print(especific)"
   ]
  },
  {
   "cell_type": "code",
   "execution_count": 14,
   "metadata": {},
   "outputs": [
    {
     "name": "stdout",
     "output_type": "stream",
     "text": [
      "Criando coluna de imposto\n",
      "       Nome  Idade          Cidade  Salário       Setor  Imposto  Salário_Imposto\n",
      "0       Ana     25       São Paulo     3500          TI    525.0           4025.0\n",
      "1     Bruno     30  Rio de Janeiro     4200  Financeiro    630.0           4830.0\n",
      "2    Carlos     28  Belo Horizonte     3900          TI    585.0           4485.0\n",
      "3   Daniela     35        Curitiba     4500          RH    675.0           5175.0\n",
      "4   Eduardo     40       São Paulo     7000   Diretoria   1050.0           8050.0\n",
      "5  Fernanda     22  Rio de Janeiro     3200  Financeiro    480.0           3680.0\n",
      "6   Gustavo     27        Curitiba     4100          TI    615.0           4715.0\n",
      "7   Heloísa     33  Belo Horizonte     3800          RH    570.0           4370.0\n"
     ]
    }
   ],
   "source": [
    "print('Criando coluna de imposto')\n",
    "data['Imposto'] = data['Salário'] * 0.15 \n",
    "data['Salário_Imposto'] = data['Imposto'] + data['Salário']\n",
    "print(data.to_string())  # Exibe o DataFrame inteiro sem limitações\n",
    "\n",
    "\n"
   ]
  },
  {
   "cell_type": "code",
   "execution_count": 27,
   "metadata": {},
   "outputs": [
    {
     "data": {
      "text/html": [
       "<div>\n",
       "<style scoped>\n",
       "    .dataframe tbody tr th:only-of-type {\n",
       "        vertical-align: middle;\n",
       "    }\n",
       "\n",
       "    .dataframe tbody tr th {\n",
       "        vertical-align: top;\n",
       "    }\n",
       "\n",
       "    .dataframe thead th {\n",
       "        text-align: right;\n",
       "    }\n",
       "</style>\n",
       "<table border=\"1\" class=\"dataframe\">\n",
       "  <thead>\n",
       "    <tr style=\"text-align: right;\">\n",
       "      <th></th>\n",
       "      <th>Nome</th>\n",
       "      <th>Idade</th>\n",
       "      <th>Cidade</th>\n",
       "      <th>Salário</th>\n",
       "      <th>Setor</th>\n",
       "      <th>Imposto</th>\n",
       "      <th>Salário_Imposto</th>\n",
       "    </tr>\n",
       "  </thead>\n",
       "  <tbody>\n",
       "    <tr>\n",
       "      <th>0</th>\n",
       "      <td>Ana</td>\n",
       "      <td>25</td>\n",
       "      <td>São Paulo</td>\n",
       "      <td>3500</td>\n",
       "      <td>TI</td>\n",
       "      <td>525.0</td>\n",
       "      <td>4025.0</td>\n",
       "    </tr>\n",
       "    <tr>\n",
       "      <th>1</th>\n",
       "      <td>Bruno</td>\n",
       "      <td>30</td>\n",
       "      <td>Rio de Janeiro</td>\n",
       "      <td>4200</td>\n",
       "      <td>Financeiro</td>\n",
       "      <td>630.0</td>\n",
       "      <td>4830.0</td>\n",
       "    </tr>\n",
       "    <tr>\n",
       "      <th>2</th>\n",
       "      <td>Carlos</td>\n",
       "      <td>28</td>\n",
       "      <td>Belo Horizonte</td>\n",
       "      <td>3900</td>\n",
       "      <td>TI</td>\n",
       "      <td>585.0</td>\n",
       "      <td>4485.0</td>\n",
       "    </tr>\n",
       "    <tr>\n",
       "      <th>3</th>\n",
       "      <td>Daniela</td>\n",
       "      <td>35</td>\n",
       "      <td>Curitiba</td>\n",
       "      <td>4500</td>\n",
       "      <td>RH</td>\n",
       "      <td>675.0</td>\n",
       "      <td>5175.0</td>\n",
       "    </tr>\n",
       "    <tr>\n",
       "      <th>4</th>\n",
       "      <td>Eduardo</td>\n",
       "      <td>40</td>\n",
       "      <td>São Paulo</td>\n",
       "      <td>7000</td>\n",
       "      <td>Diretoria</td>\n",
       "      <td>1050.0</td>\n",
       "      <td>8050.0</td>\n",
       "    </tr>\n",
       "    <tr>\n",
       "      <th>5</th>\n",
       "      <td>Fernanda</td>\n",
       "      <td>22</td>\n",
       "      <td>Rio de Janeiro</td>\n",
       "      <td>3200</td>\n",
       "      <td>Financeiro</td>\n",
       "      <td>480.0</td>\n",
       "      <td>3680.0</td>\n",
       "    </tr>\n",
       "    <tr>\n",
       "      <th>6</th>\n",
       "      <td>Gustavo</td>\n",
       "      <td>27</td>\n",
       "      <td>Curitiba</td>\n",
       "      <td>4100</td>\n",
       "      <td>TI</td>\n",
       "      <td>615.0</td>\n",
       "      <td>4715.0</td>\n",
       "    </tr>\n",
       "    <tr>\n",
       "      <th>7</th>\n",
       "      <td>Heloísa</td>\n",
       "      <td>33</td>\n",
       "      <td>Belo Horizonte</td>\n",
       "      <td>3800</td>\n",
       "      <td>RH</td>\n",
       "      <td>570.0</td>\n",
       "      <td>4370.0</td>\n",
       "    </tr>\n",
       "  </tbody>\n",
       "</table>\n",
       "</div>"
      ],
      "text/plain": [
       "       Nome  Idade          Cidade  Salário       Setor  Imposto  \\\n",
       "0       Ana     25       São Paulo     3500          TI    525.0   \n",
       "1     Bruno     30  Rio de Janeiro     4200  Financeiro    630.0   \n",
       "2    Carlos     28  Belo Horizonte     3900          TI    585.0   \n",
       "3   Daniela     35        Curitiba     4500          RH    675.0   \n",
       "4   Eduardo     40       São Paulo     7000   Diretoria   1050.0   \n",
       "5  Fernanda     22  Rio de Janeiro     3200  Financeiro    480.0   \n",
       "6   Gustavo     27        Curitiba     4100          TI    615.0   \n",
       "7   Heloísa     33  Belo Horizonte     3800          RH    570.0   \n",
       "\n",
       "   Salário_Imposto  \n",
       "0           4025.0  \n",
       "1           4830.0  \n",
       "2           4485.0  \n",
       "3           5175.0  \n",
       "4           8050.0  \n",
       "5           3680.0  \n",
       "6           4715.0  \n",
       "7           4370.0  "
      ]
     },
     "metadata": {},
     "output_type": "display_data"
    }
   ],
   "source": [
    "from IPython.display import display\n",
    "display(data)\n"
   ]
  }
 ],
 "metadata": {
  "kernelspec": {
   "display_name": "Python 3",
   "language": "python",
   "name": "python3"
  },
  "language_info": {
   "codemirror_mode": {
    "name": "ipython",
    "version": 3
   },
   "file_extension": ".py",
   "mimetype": "text/x-python",
   "name": "python",
   "nbconvert_exporter": "python",
   "pygments_lexer": "ipython3",
   "version": "3.13.1"
  }
 },
 "nbformat": 4,
 "nbformat_minor": 2
}
