{
 "cells": [
  {
   "cell_type": "code",
   "execution_count": null,
   "id": "638aa812",
   "metadata": {},
   "outputs": [],
   "source": [
    "#  Nível 1: NumPy Básico\n",
    "# Crie um array de 10 números aleatórios entre 0 e 100.\n",
    "\n",
    "# Calcule a média, desvio padrão e a soma.\n",
    "\n",
    "# Filtre todos os valores acima da média.\n",
    "\n"
   ]
  },
  {
   "cell_type": "code",
   "execution_count": 1,
   "id": "da804a14",
   "metadata": {},
   "outputs": [],
   "source": [
    "import numpy as np"
   ]
  },
  {
   "cell_type": "code",
   "execution_count": 37,
   "id": "4766e338",
   "metadata": {},
   "outputs": [
    {
     "name": "stdout",
     "output_type": "stream",
     "text": [
      "[4 9 4 5 5 4 8 1 2 5]\n"
     ]
    }
   ],
   "source": [
    "array = np.random.randint(1,10,size=10)\n",
    "print(array)"
   ]
  },
  {
   "cell_type": "code",
   "execution_count": 29,
   "id": "44e920e7",
   "metadata": {},
   "outputs": [
    {
     "name": "stdout",
     "output_type": "stream",
     "text": [
      "6.2\n"
     ]
    }
   ],
   "source": [
    "#Calculando media\n",
    "media = array.mean()\n",
    "print(media)"
   ]
  },
  {
   "cell_type": "code",
   "execution_count": 38,
   "id": "2620e755",
   "metadata": {},
   "outputs": [
    {
     "name": "stdout",
     "output_type": "stream",
     "text": [
      "2.2825424421026654\n"
     ]
    }
   ],
   "source": [
    "#desvio padrao\n",
    "desvio_padrao = np.std(array)\n",
    "print(desvio_padrao)"
   ]
  }
 ],
 "metadata": {
  "kernelspec": {
   "display_name": "base",
   "language": "python",
   "name": "python3"
  },
  "language_info": {
   "codemirror_mode": {
    "name": "ipython",
    "version": 3
   },
   "file_extension": ".py",
   "mimetype": "text/x-python",
   "name": "python",
   "nbconvert_exporter": "python",
   "pygments_lexer": "ipython3",
   "version": "3.12.7"
  }
 },
 "nbformat": 4,
 "nbformat_minor": 5
}
