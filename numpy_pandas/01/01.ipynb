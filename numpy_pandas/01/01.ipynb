{
 "cells": [
  {
   "cell_type": "code",
   "execution_count": 1,
   "id": "d89c6c79",
   "metadata": {},
   "outputs": [],
   "source": [
    "#NUMPY STUDIES\n",
    "import numpy as np"
   ]
  },
  {
   "cell_type": "code",
   "execution_count": 2,
   "id": "bff37d32",
   "metadata": {},
   "outputs": [
    {
     "name": "stdout",
     "output_type": "stream",
     "text": [
      "[ 6  8 10 12]\n"
     ]
    }
   ],
   "source": [
    "#Arrays and basic operations\n",
    "a = np.array([1,2,3,4])\n",
    "b = np.array([5,6,7,8])\n",
    "print(a + b)\n"
   ]
  },
  {
   "cell_type": "code",
   "execution_count": 3,
   "id": "ad973420",
   "metadata": {},
   "outputs": [
    {
     "name": "stdout",
     "output_type": "stream",
     "text": [
      "[1, 2, 3, 4, 5, 6, 7, 8]\n"
     ]
    }
   ],
   "source": [
    "#SEM NUMPY ELA CONCATENA\n",
    "aa = [1,2,3,4]\n",
    "bb = [5,6,7,8]\n",
    "print(aa+bb)"
   ]
  },
  {
   "cell_type": "code",
   "execution_count": 4,
   "id": "7d79907a",
   "metadata": {},
   "outputs": [
    {
     "name": "stdout",
     "output_type": "stream",
     "text": [
      "[[0 3 6]\n",
      " [1 4 7]\n",
      " [2 5 8]]\n"
     ]
    }
   ],
   "source": [
    "#Matrizes, reshape, e transpose\n",
    "matriz = np.arange(9).reshape(3, 3)\n",
    "print(matriz.T)  # Transposta\n"
   ]
  },
  {
   "cell_type": "code",
   "execution_count": 5,
   "id": "5a3288b8",
   "metadata": {},
   "outputs": [
    {
     "name": "stdout",
     "output_type": "stream",
     "text": [
      "4.0 2.581988897471611\n"
     ]
    }
   ],
   "source": [
    "print(matriz.mean(), matriz.std())\n"
   ]
  },
  {
   "cell_type": "code",
   "execution_count": 6,
   "id": "8314d9a0",
   "metadata": {},
   "outputs": [
    {
     "name": "stdout",
     "output_type": "stream",
     "text": [
      "[5 6 7 8]\n"
     ]
    }
   ],
   "source": [
    "print(matriz[matriz > 4])  # Elementos maiores que 4\n"
   ]
  },
  {
   "cell_type": "code",
   "execution_count": 7,
   "id": "08246f1c",
   "metadata": {},
   "outputs": [
    {
     "ename": "NameError",
     "evalue": "name 'pd' is not defined",
     "output_type": "error",
     "traceback": [
      "\u001b[1;31m---------------------------------------------------------------------------\u001b[0m",
      "\u001b[1;31mNameError\u001b[0m                                 Traceback (most recent call last)",
      "Cell \u001b[1;32mIn[7], line 3\u001b[0m\n\u001b[0;32m      1\u001b[0m \u001b[38;5;66;03m#join entre dataframes\u001b[39;00m\n\u001b[1;32m----> 3\u001b[0m clientes \u001b[38;5;241m=\u001b[39m pd\u001b[38;5;241m.\u001b[39mDataFrame({\u001b[38;5;124m'\u001b[39m\u001b[38;5;124mid\u001b[39m\u001b[38;5;124m'\u001b[39m: [\u001b[38;5;241m1\u001b[39m, \u001b[38;5;241m2\u001b[39m], \u001b[38;5;124m'\u001b[39m\u001b[38;5;124mnome\u001b[39m\u001b[38;5;124m'\u001b[39m: [\u001b[38;5;124m'\u001b[39m\u001b[38;5;124mJoão\u001b[39m\u001b[38;5;124m'\u001b[39m, \u001b[38;5;124m'\u001b[39m\u001b[38;5;124mMaria\u001b[39m\u001b[38;5;124m'\u001b[39m]})\n\u001b[0;32m      4\u001b[0m pedidos \u001b[38;5;241m=\u001b[39m pd\u001b[38;5;241m.\u001b[39mDataFrame({\u001b[38;5;124m'\u001b[39m\u001b[38;5;124mcliente_id\u001b[39m\u001b[38;5;124m'\u001b[39m: [\u001b[38;5;241m1\u001b[39m, \u001b[38;5;241m1\u001b[39m, \u001b[38;5;241m2\u001b[39m], \u001b[38;5;124m'\u001b[39m\u001b[38;5;124mvalor\u001b[39m\u001b[38;5;124m'\u001b[39m: [\u001b[38;5;241m100\u001b[39m, \u001b[38;5;241m200\u001b[39m, \u001b[38;5;241m300\u001b[39m]})\n\u001b[0;32m      6\u001b[0m df_join \u001b[38;5;241m=\u001b[39m pd\u001b[38;5;241m.\u001b[39mmerge(clientes, pedidos, left_on\u001b[38;5;241m=\u001b[39m\u001b[38;5;124m'\u001b[39m\u001b[38;5;124mid\u001b[39m\u001b[38;5;124m'\u001b[39m, right_on\u001b[38;5;241m=\u001b[39m\u001b[38;5;124m'\u001b[39m\u001b[38;5;124mcliente_id\u001b[39m\u001b[38;5;124m'\u001b[39m)\n",
      "\u001b[1;31mNameError\u001b[0m: name 'pd' is not defined"
     ]
    }
   ],
   "source": [
    "#join entre dataframes\n",
    "\n",
    "clientes = pd.DataFrame({'id': [1, 2], 'nome': ['João', 'Maria']})\n",
    "pedidos = pd.DataFrame({'cliente_id': [1, 1, 2], 'valor': [100, 200, 300]})\n",
    "\n",
    "df_join = pd.merge(clientes, pedidos, left_on='id', right_on='cliente_id')\n"
   ]
  },
  {
   "cell_type": "code",
   "execution_count": null,
   "id": "0aecacd0",
   "metadata": {},
   "outputs": [],
   "source": [
    "#  Nível 2: Pandas Intermediário\n",
    "# Leia um CSV de vendas (vendas.csv com colunas: cliente, produto, valor, data).\n",
    "\n",
    "# Calcule o total vendido por cliente.\n",
    "\n",
    "# Adicione uma coluna \"desconto\" com 10% do valor.\n",
    "\n",
    "# Filtre apenas vendas acima de R$200 com desconto."
   ]
  },
  {
   "cell_type": "code",
   "execution_count": null,
   "id": "de93425d",
   "metadata": {},
   "outputs": [
    {
     "data": {
      "text/html": [
       "<div>\n",
       "<style scoped>\n",
       "    .dataframe tbody tr th:only-of-type {\n",
       "        vertical-align: middle;\n",
       "    }\n",
       "\n",
       "    .dataframe tbody tr th {\n",
       "        vertical-align: top;\n",
       "    }\n",
       "\n",
       "    .dataframe thead th {\n",
       "        text-align: right;\n",
       "    }\n",
       "</style>\n",
       "<table border=\"1\" class=\"dataframe\">\n",
       "  <thead>\n",
       "    <tr style=\"text-align: right;\">\n",
       "      <th></th>\n",
       "      <th>order_id</th>\n",
       "      <th>customer_id</th>\n",
       "      <th>order_status</th>\n",
       "      <th>order_date</th>\n",
       "      <th>required_date</th>\n",
       "      <th>shipped_date</th>\n",
       "      <th>store_id</th>\n",
       "      <th>staff_id</th>\n",
       "    </tr>\n",
       "  </thead>\n",
       "  <tbody>\n",
       "    <tr>\n",
       "      <th>0</th>\n",
       "      <td>51</td>\n",
       "      <td>1108</td>\n",
       "      <td>4</td>\n",
       "      <td>2016-02-01</td>\n",
       "      <td>2016-02-03</td>\n",
       "      <td>2016-02-03</td>\n",
       "      <td>1</td>\n",
       "      <td>3</td>\n",
       "    </tr>\n",
       "    <tr>\n",
       "      <th>1</th>\n",
       "      <td>52</td>\n",
       "      <td>180</td>\n",
       "      <td>4</td>\n",
       "      <td>2016-02-02</td>\n",
       "      <td>2016-02-04</td>\n",
       "      <td>2016-02-06</td>\n",
       "      <td>3</td>\n",
       "      <td>2</td>\n",
       "    </tr>\n",
       "    <tr>\n",
       "      <th>2</th>\n",
       "      <td>53</td>\n",
       "      <td>1222</td>\n",
       "      <td>4</td>\n",
       "      <td>2016-02-03</td>\n",
       "      <td>2016-02-06</td>\n",
       "      <td>2016-02-06</td>\n",
       "      <td>2</td>\n",
       "      <td>8</td>\n",
       "    </tr>\n",
       "    <tr>\n",
       "      <th>3</th>\n",
       "      <td>54</td>\n",
       "      <td>224</td>\n",
       "      <td>4</td>\n",
       "      <td>2016-02-04</td>\n",
       "      <td>2016-02-06</td>\n",
       "      <td>2016-02-07</td>\n",
       "      <td>3</td>\n",
       "      <td>7</td>\n",
       "    </tr>\n",
       "    <tr>\n",
       "      <th>4</th>\n",
       "      <td>55</td>\n",
       "      <td>1011</td>\n",
       "      <td>4</td>\n",
       "      <td>2016-02-05</td>\n",
       "      <td>2016-02-08</td>\n",
       "      <td>2016-02-08</td>\n",
       "      <td>2</td>\n",
       "      <td>4</td>\n",
       "    </tr>\n",
       "    <tr>\n",
       "      <th>5</th>\n",
       "      <td>56</td>\n",
       "      <td>629</td>\n",
       "      <td>4</td>\n",
       "      <td>2016-02-06</td>\n",
       "      <td>2016-02-07</td>\n",
       "      <td>2016-02-08</td>\n",
       "      <td>2</td>\n",
       "      <td>2</td>\n",
       "    </tr>\n",
       "    <tr>\n",
       "      <th>6</th>\n",
       "      <td>57</td>\n",
       "      <td>786</td>\n",
       "      <td>4</td>\n",
       "      <td>2016-02-07</td>\n",
       "      <td>2016-02-10</td>\n",
       "      <td>2016-02-11</td>\n",
       "      <td>2</td>\n",
       "      <td>6</td>\n",
       "    </tr>\n",
       "    <tr>\n",
       "      <th>7</th>\n",
       "      <td>58</td>\n",
       "      <td>157</td>\n",
       "      <td>4</td>\n",
       "      <td>2016-02-08</td>\n",
       "      <td>2016-02-10</td>\n",
       "      <td>2016-02-12</td>\n",
       "      <td>1</td>\n",
       "      <td>3</td>\n",
       "    </tr>\n",
       "    <tr>\n",
       "      <th>8</th>\n",
       "      <td>59</td>\n",
       "      <td>367</td>\n",
       "      <td>4</td>\n",
       "      <td>2016-02-09</td>\n",
       "      <td>2016-02-12</td>\n",
       "      <td>2016-02-12</td>\n",
       "      <td>3</td>\n",
       "      <td>3</td>\n",
       "    </tr>\n",
       "    <tr>\n",
       "      <th>9</th>\n",
       "      <td>60</td>\n",
       "      <td>734</td>\n",
       "      <td>4</td>\n",
       "      <td>2016-02-10</td>\n",
       "      <td>2016-02-11</td>\n",
       "      <td>2016-02-12</td>\n",
       "      <td>2</td>\n",
       "      <td>3</td>\n",
       "    </tr>\n",
       "    <tr>\n",
       "      <th>10</th>\n",
       "      <td>61</td>\n",
       "      <td>1012</td>\n",
       "      <td>4</td>\n",
       "      <td>2016-02-11</td>\n",
       "      <td>2016-02-13</td>\n",
       "      <td>2016-02-15</td>\n",
       "      <td>2</td>\n",
       "      <td>4</td>\n",
       "    </tr>\n",
       "    <tr>\n",
       "      <th>11</th>\n",
       "      <td>62</td>\n",
       "      <td>1305</td>\n",
       "      <td>4</td>\n",
       "      <td>2016-02-12</td>\n",
       "      <td>2016-02-14</td>\n",
       "      <td>2016-02-14</td>\n",
       "      <td>2</td>\n",
       "      <td>3</td>\n",
       "    </tr>\n",
       "    <tr>\n",
       "      <th>12</th>\n",
       "      <td>63</td>\n",
       "      <td>1002</td>\n",
       "      <td>4</td>\n",
       "      <td>2016-02-13</td>\n",
       "      <td>2016-02-15</td>\n",
       "      <td>2016-02-17</td>\n",
       "      <td>3</td>\n",
       "      <td>6</td>\n",
       "    </tr>\n",
       "    <tr>\n",
       "      <th>13</th>\n",
       "      <td>64</td>\n",
       "      <td>803</td>\n",
       "      <td>4</td>\n",
       "      <td>2016-02-14</td>\n",
       "      <td>2016-02-15</td>\n",
       "      <td>2016-02-16</td>\n",
       "      <td>2</td>\n",
       "      <td>3</td>\n",
       "    </tr>\n",
       "    <tr>\n",
       "      <th>14</th>\n",
       "      <td>65</td>\n",
       "      <td>813</td>\n",
       "      <td>4</td>\n",
       "      <td>2016-02-15</td>\n",
       "      <td>2016-02-16</td>\n",
       "      <td>2016-02-17</td>\n",
       "      <td>1</td>\n",
       "      <td>6</td>\n",
       "    </tr>\n",
       "    <tr>\n",
       "      <th>15</th>\n",
       "      <td>66</td>\n",
       "      <td>1060</td>\n",
       "      <td>4</td>\n",
       "      <td>2016-02-16</td>\n",
       "      <td>2016-02-18</td>\n",
       "      <td>2016-02-19</td>\n",
       "      <td>3</td>\n",
       "      <td>4</td>\n",
       "    </tr>\n",
       "    <tr>\n",
       "      <th>16</th>\n",
       "      <td>67</td>\n",
       "      <td>1045</td>\n",
       "      <td>4</td>\n",
       "      <td>2016-02-17</td>\n",
       "      <td>2016-02-19</td>\n",
       "      <td>2016-02-20</td>\n",
       "      <td>3</td>\n",
       "      <td>6</td>\n",
       "    </tr>\n",
       "    <tr>\n",
       "      <th>17</th>\n",
       "      <td>68</td>\n",
       "      <td>880</td>\n",
       "      <td>4</td>\n",
       "      <td>2016-02-18</td>\n",
       "      <td>2016-02-19</td>\n",
       "      <td>2016-02-19</td>\n",
       "      <td>2</td>\n",
       "      <td>6</td>\n",
       "    </tr>\n",
       "    <tr>\n",
       "      <th>18</th>\n",
       "      <td>69</td>\n",
       "      <td>900</td>\n",
       "      <td>4</td>\n",
       "      <td>2016-02-19</td>\n",
       "      <td>2016-02-20</td>\n",
       "      <td>2016-02-22</td>\n",
       "      <td>3</td>\n",
       "      <td>8</td>\n",
       "    </tr>\n",
       "  </tbody>\n",
       "</table>\n",
       "</div>"
      ],
      "text/plain": [
       "    order_id  customer_id  order_status  order_date required_date  \\\n",
       "0         51         1108             4  2016-02-01    2016-02-03   \n",
       "1         52          180             4  2016-02-02    2016-02-04   \n",
       "2         53         1222             4  2016-02-03    2016-02-06   \n",
       "3         54          224             4  2016-02-04    2016-02-06   \n",
       "4         55         1011             4  2016-02-05    2016-02-08   \n",
       "5         56          629             4  2016-02-06    2016-02-07   \n",
       "6         57          786             4  2016-02-07    2016-02-10   \n",
       "7         58          157             4  2016-02-08    2016-02-10   \n",
       "8         59          367             4  2016-02-09    2016-02-12   \n",
       "9         60          734             4  2016-02-10    2016-02-11   \n",
       "10        61         1012             4  2016-02-11    2016-02-13   \n",
       "11        62         1305             4  2016-02-12    2016-02-14   \n",
       "12        63         1002             4  2016-02-13    2016-02-15   \n",
       "13        64          803             4  2016-02-14    2016-02-15   \n",
       "14        65          813             4  2016-02-15    2016-02-16   \n",
       "15        66         1060             4  2016-02-16    2016-02-18   \n",
       "16        67         1045             4  2016-02-17    2016-02-19   \n",
       "17        68          880             4  2016-02-18    2016-02-19   \n",
       "18        69          900             4  2016-02-19    2016-02-20   \n",
       "\n",
       "   shipped_date  store_id  staff_id  \n",
       "0    2016-02-03         1         3  \n",
       "1    2016-02-06         3         2  \n",
       "2    2016-02-06         2         8  \n",
       "3    2016-02-07         3         7  \n",
       "4    2016-02-08         2         4  \n",
       "5    2016-02-08         2         2  \n",
       "6    2016-02-11         2         6  \n",
       "7    2016-02-12         1         3  \n",
       "8    2016-02-12         3         3  \n",
       "9    2016-02-12         2         3  \n",
       "10   2016-02-15         2         4  \n",
       "11   2016-02-14         2         3  \n",
       "12   2016-02-17         3         6  \n",
       "13   2016-02-16         2         3  \n",
       "14   2016-02-17         1         6  \n",
       "15   2016-02-19         3         4  \n",
       "16   2016-02-20         3         6  \n",
       "17   2016-02-19         2         6  \n",
       "18   2016-02-22         3         8  "
      ]
     },
     "metadata": {},
     "output_type": "display_data"
    }
   ],
   "source": [
    "import pandas as pd\n",
    "from IPython.display import display\n",
    "df = pd.read_csv('vendas.csv')\n",
    "display(df)"
   ]
  },
  {
   "cell_type": "code",
   "execution_count": 12,
   "id": "e8c2e229",
   "metadata": {},
   "outputs": [
    {
     "data": {
      "text/plain": [
       "customer_id\n",
       "157     1\n",
       "180     1\n",
       "224     1\n",
       "367     1\n",
       "629     1\n",
       "734     1\n",
       "786     1\n",
       "803     1\n",
       "813     1\n",
       "880     1\n",
       "900     1\n",
       "1002    1\n",
       "1011    1\n",
       "1012    1\n",
       "1045    1\n",
       "1060    1\n",
       "1108    1\n",
       "1222    1\n",
       "1305    1\n",
       "Name: customer_id, dtype: int64"
      ]
     },
     "metadata": {},
     "output_type": "display_data"
    }
   ],
   "source": [
    "# Calcule o total vendido por cliente.\n",
    "sell_per_customer = df.groupby('customer_id')['customer_id'].count()\n",
    "display(sell_per_customer)"
   ]
  },
  {
   "cell_type": "code",
   "execution_count": null,
   "id": "f2b11bf9",
   "metadata": {},
   "outputs": [],
   "source": [
    "# Adicione uma coluna \"desconto\" com 10% do valor.\n",
    "df['discount'] = "
   ]
  }
 ],
 "metadata": {
  "kernelspec": {
   "display_name": "base",
   "language": "python",
   "name": "python3"
  },
  "language_info": {
   "codemirror_mode": {
    "name": "ipython",
    "version": 3
   },
   "file_extension": ".py",
   "mimetype": "text/x-python",
   "name": "python",
   "nbconvert_exporter": "python",
   "pygments_lexer": "ipython3",
   "version": "3.12.7"
  }
 },
 "nbformat": 4,
 "nbformat_minor": 5
}
