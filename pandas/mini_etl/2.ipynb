{
 "cells": [
  {
   "cell_type": "code",
   "execution_count": null,
   "id": "380962b2",
   "metadata": {},
   "outputs": [],
   "source": [
    "import pandas as pd\n",
    "import numpy as np\n",
    "\n",
    "df = pd.read_csv('exostop.csv')\n",
    "\n",
    "df['data'] = pd.to_datetime(df['data'])\n",
    "df['ano'] = df['data'].dt.year\n",
    "df['mes'] = df['data'].dt.month\n",
    "df['dia_semana'] = df['data'].dt.day_name()\n",
    "\n",
    "df['valor_total'] = df['quantidade'] * df['preco_unitario']\n",
    "\n",
    "resumo_mensal = df.groupby(['ano', 'mes']).agg({\n",
    "    'valor_total': ['sum', 'mean', 'max'],\n",
    "    'quantidade': 'sum'\n",
    "}).reset_index()\n",
    "\n",
    "top_vendas = df.groupby('produto')['valor_total'].sum().sort_values(ascending=False).head(10)\n",
    "\n",
    "df['categoria'] = np.where(df['valor_total'] > 1000, 'Alta', 'Baixa')\n",
    "\n",
    "pivot = df.pivot_table(index='dia_semana', values='valor_total', aggfunc='mean').reindex([\n",
    "    'Monday', 'Tuesday', 'Wednesday', 'Thursday', 'Friday', 'Saturday', 'Sunday'\n",
    "])\n",
    "\n",
    "analisando = df[(df['categoria'] == 'Alta') & (df['dia_semana'].isin(['Saturday', 'Sunday']))]\n",
    "\n",
    "outliers = df[df['valor_total'] > df['valor_total'].quantile(0.99)]\n",
    "\n",
    "print(resumo_mensal)\n",
    "print(top_vendas)\n",
    "print(pivot)\n",
    "print(analisando.shape)\n",
    "print(outliers[['produto', 'valor_total']])\n"
   ]
  }
 ],
 "metadata": {
  "language_info": {
   "name": "python"
  }
 },
 "nbformat": 4,
 "nbformat_minor": 5
}
