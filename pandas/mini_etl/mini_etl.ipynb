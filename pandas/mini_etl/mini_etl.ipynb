{
 "cells": [
  {
   "cell_type": "code",
   "execution_count": 42,
   "id": "8508daa3",
   "metadata": {},
   "outputs": [],
   "source": [
    "import pandas as pd\n",
    "from IPython.display import display\n",
    "from sqlalchemy import create_engine"
   ]
  },
  {
   "cell_type": "code",
   "execution_count": 43,
   "id": "fb2206f0",
   "metadata": {},
   "outputs": [
    {
     "data": {
      "text/html": [
       "<div>\n",
       "<style scoped>\n",
       "    .dataframe tbody tr th:only-of-type {\n",
       "        vertical-align: middle;\n",
       "    }\n",
       "\n",
       "    .dataframe tbody tr th {\n",
       "        vertical-align: top;\n",
       "    }\n",
       "\n",
       "    .dataframe thead th {\n",
       "        text-align: right;\n",
       "    }\n",
       "</style>\n",
       "<table border=\"1\" class=\"dataframe\">\n",
       "  <thead>\n",
       "    <tr style=\"text-align: right;\">\n",
       "      <th></th>\n",
       "      <th>id</th>\n",
       "      <th>cliente</th>\n",
       "      <th>valor</th>\n",
       "      <th>produto</th>\n",
       "      <th>data_venda</th>\n",
       "    </tr>\n",
       "  </thead>\n",
       "  <tbody>\n",
       "    <tr>\n",
       "      <th>0</th>\n",
       "      <td>1</td>\n",
       "      <td>Lucas</td>\n",
       "      <td>100</td>\n",
       "      <td>Notebook</td>\n",
       "      <td>2024/01/10</td>\n",
       "    </tr>\n",
       "    <tr>\n",
       "      <th>1</th>\n",
       "      <td>2</td>\n",
       "      <td>NaN</td>\n",
       "      <td>250</td>\n",
       "      <td>Mouse</td>\n",
       "      <td>2024/01/12</td>\n",
       "    </tr>\n",
       "    <tr>\n",
       "      <th>2</th>\n",
       "      <td>3</td>\n",
       "      <td>Carla</td>\n",
       "      <td>abc</td>\n",
       "      <td>Fone</td>\n",
       "      <td>2024/01/13</td>\n",
       "    </tr>\n",
       "    <tr>\n",
       "      <th>3</th>\n",
       "      <td>4</td>\n",
       "      <td>João</td>\n",
       "      <td>300</td>\n",
       "      <td>NaN</td>\n",
       "      <td>2024/01/15</td>\n",
       "    </tr>\n",
       "    <tr>\n",
       "      <th>4</th>\n",
       "      <td>5</td>\n",
       "      <td>Ana</td>\n",
       "      <td>150</td>\n",
       "      <td>Teclado</td>\n",
       "      <td>2024/01/18</td>\n",
       "    </tr>\n",
       "  </tbody>\n",
       "</table>\n",
       "</div>"
      ],
      "text/plain": [
       "   id cliente valor   produto  data_venda\n",
       "0   1   Lucas   100  Notebook  2024/01/10\n",
       "1   2     NaN   250     Mouse  2024/01/12\n",
       "2   3   Carla   abc      Fone  2024/01/13\n",
       "3   4    João   300       NaN  2024/01/15\n",
       "4   5     Ana   150   Teclado  2024/01/18"
      ]
     },
     "execution_count": 43,
     "metadata": {},
     "output_type": "execute_result"
    }
   ],
   "source": [
    "#lendo arquivo csv\n",
    "df = pd.read_csv('relatorio.csv')\n",
    "df.head()"
   ]
  },
  {
   "cell_type": "code",
   "execution_count": 44,
   "id": "d28953a1",
   "metadata": {},
   "outputs": [
    {
     "data": {
      "text/html": [
       "<div>\n",
       "<style scoped>\n",
       "    .dataframe tbody tr th:only-of-type {\n",
       "        vertical-align: middle;\n",
       "    }\n",
       "\n",
       "    .dataframe tbody tr th {\n",
       "        vertical-align: top;\n",
       "    }\n",
       "\n",
       "    .dataframe thead th {\n",
       "        text-align: right;\n",
       "    }\n",
       "</style>\n",
       "<table border=\"1\" class=\"dataframe\">\n",
       "  <thead>\n",
       "    <tr style=\"text-align: right;\">\n",
       "      <th></th>\n",
       "      <th>id</th>\n",
       "      <th>cliente</th>\n",
       "      <th>valor</th>\n",
       "      <th>produto</th>\n",
       "      <th>data_venda</th>\n",
       "    </tr>\n",
       "  </thead>\n",
       "  <tbody>\n",
       "    <tr>\n",
       "      <th>0</th>\n",
       "      <td>1</td>\n",
       "      <td>Lucas</td>\n",
       "      <td>100.0</td>\n",
       "      <td>Notebook</td>\n",
       "      <td>2024/01/10</td>\n",
       "    </tr>\n",
       "    <tr>\n",
       "      <th>4</th>\n",
       "      <td>5</td>\n",
       "      <td>Ana</td>\n",
       "      <td>150.0</td>\n",
       "      <td>Teclado</td>\n",
       "      <td>2024/01/18</td>\n",
       "    </tr>\n",
       "  </tbody>\n",
       "</table>\n",
       "</div>"
      ],
      "text/plain": [
       "   id cliente  valor   produto  data_venda\n",
       "0   1   Lucas  100.0  Notebook  2024/01/10\n",
       "4   5     Ana  150.0   Teclado  2024/01/18"
      ]
     },
     "metadata": {},
     "output_type": "display_data"
    }
   ],
   "source": [
    "# 2. **Transformação**\n",
    "\n",
    "#    - Remova linhas com valores nulos em campos essenciais (`cliente`, `produto`, `valor`).\n",
    "\n",
    "\n",
    "#    - Converta a coluna `valor` para numérico, tratando erros.\n",
    "df['valor'] = pd.to_numeric(df['valor'], errors='coerce')\n",
    "df_not_null = df.dropna()\n",
    "display(df_not_null)\n",
    "\n",
    "\n"
   ]
  },
  {
   "cell_type": "code",
   "execution_count": 45,
   "id": "f01c3d78",
   "metadata": {},
   "outputs": [
    {
     "name": "stderr",
     "output_type": "stream",
     "text": [
      "C:\\Users\\Gioher\\AppData\\Local\\Temp\\ipykernel_9656\\1770645025.py:2: SettingWithCopyWarning: \n",
      "A value is trying to be set on a copy of a slice from a DataFrame.\n",
      "Try using .loc[row_indexer,col_indexer] = value instead\n",
      "\n",
      "See the caveats in the documentation: https://pandas.pydata.org/pandas-docs/stable/user_guide/indexing.html#returning-a-view-versus-a-copy\n",
      "  df_not_null.loc[:, 'imposto'] = df_not_null['valor'] * 1.12\n"
     ]
    },
    {
     "data": {
      "text/html": [
       "<div>\n",
       "<style scoped>\n",
       "    .dataframe tbody tr th:only-of-type {\n",
       "        vertical-align: middle;\n",
       "    }\n",
       "\n",
       "    .dataframe tbody tr th {\n",
       "        vertical-align: top;\n",
       "    }\n",
       "\n",
       "    .dataframe thead th {\n",
       "        text-align: right;\n",
       "    }\n",
       "</style>\n",
       "<table border=\"1\" class=\"dataframe\">\n",
       "  <thead>\n",
       "    <tr style=\"text-align: right;\">\n",
       "      <th></th>\n",
       "      <th>id</th>\n",
       "      <th>cliente</th>\n",
       "      <th>valor</th>\n",
       "      <th>produto</th>\n",
       "      <th>data_venda</th>\n",
       "      <th>imposto</th>\n",
       "    </tr>\n",
       "  </thead>\n",
       "  <tbody>\n",
       "    <tr>\n",
       "      <th>0</th>\n",
       "      <td>1</td>\n",
       "      <td>Lucas</td>\n",
       "      <td>100.0</td>\n",
       "      <td>Notebook</td>\n",
       "      <td>2024/01/10</td>\n",
       "      <td>112.0</td>\n",
       "    </tr>\n",
       "    <tr>\n",
       "      <th>4</th>\n",
       "      <td>5</td>\n",
       "      <td>Ana</td>\n",
       "      <td>150.0</td>\n",
       "      <td>Teclado</td>\n",
       "      <td>2024/01/18</td>\n",
       "      <td>168.0</td>\n",
       "    </tr>\n",
       "  </tbody>\n",
       "</table>\n",
       "</div>"
      ],
      "text/plain": [
       "   id cliente  valor   produto  data_venda  imposto\n",
       "0   1   Lucas  100.0  Notebook  2024/01/10    112.0\n",
       "4   5     Ana  150.0   Teclado  2024/01/18    168.0"
      ]
     },
     "metadata": {},
     "output_type": "display_data"
    }
   ],
   "source": [
    "# 3. Cria nova coluna com imposto de 12%\n",
    "df_not_null.loc[:, 'imposto'] = df_not_null['valor'] * 1.12\n",
    "display(df_not_null)"
   ]
  },
  {
   "cell_type": "code",
   "execution_count": 46,
   "id": "b5ac7cd8",
   "metadata": {},
   "outputs": [],
   "source": [
    "#Carga\n",
    "\n",
    "#Salve o resultado em um novo arquivo vendas_processadas.csv ou carregue os dados em um banco SQLite.\n",
    "\n",
    "df_not_null.to_csv('relatorio_limpo.csv', sep=',')"
   ]
  },
  {
   "cell_type": "code",
   "execution_count": 47,
   "id": "d8966530",
   "metadata": {},
   "outputs": [
    {
     "name": "stdout",
     "output_type": "stream",
     "text": [
      "Dados inseridos com sucesso!\n"
     ]
    }
   ],
   "source": [
    "user = 'postgres'\n",
    "password = 'postgres'\n",
    "host = 'localhost'\n",
    "port = '5432'\n",
    "banco = 'pipeline01'\n",
    "\n",
    "engine = create_engine(f'postgresql+psycopg2://{user}:{password}@{host}:{port}/{banco}')\n",
    "tabela = 'relatorio_limpo'\n",
    "\n",
    "#enviando ao banco de dados\n",
    "df_not_null.to_sql(tabela, engine, if_exists='replace', index=False)\n",
    "print(\"Dados inseridos com sucesso!\")"
   ]
  }
 ],
 "metadata": {
  "kernelspec": {
   "display_name": "Python 3",
   "language": "python",
   "name": "python3"
  },
  "language_info": {
   "codemirror_mode": {
    "name": "ipython",
    "version": 3
   },
   "file_extension": ".py",
   "mimetype": "text/x-python",
   "name": "python",
   "nbconvert_exporter": "python",
   "pygments_lexer": "ipython3",
   "version": "3.13.1"
  }
 },
 "nbformat": 4,
 "nbformat_minor": 5
}
