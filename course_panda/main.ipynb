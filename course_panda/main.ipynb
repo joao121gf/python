{
 "cells": [
  {
   "cell_type": "code",
   "execution_count": null,
   "metadata": {},
   "outputs": [],
   "source": [
    "import pandas as pd\n",
    "url = '2004-2021.tsv'\n",
    "df = pd.read_csv(url, sep='\\t')\n",
    "print(df.columns)\n",
    "print(df['ESTADO'])\n",
    "\n",
    "df[['ESTADO', 'PREÇO MÍNIMO DISTRIBUIÇÃO']].to_csv('novo_arquivo.csv', index=False)\n",
    "\n",
    "\n"
   ]
  },
  {
   "cell_type": "code",
   "execution_count": 35,
   "metadata": {},
   "outputs": [
    {
     "name": "stdout",
     "output_type": "stream",
     "text": [
      "   id   nomes  idade    cidade  compras\n",
      "0   1    Joao     20       sbo     2000\n",
      "1   2   Pedro     30  bragança   500000\n",
      "2   3  Robert     40       sbo     2123\n",
      "3   4  Stenis     20   turquia  2103023\n"
     ]
    }
   ],
   "source": [
    "url2 = './csvs/clientes.csv'\n",
    "df2 = pd.read_csv(url2, sep=\",\")\n",
    "print(df2)"
   ]
  },
  {
   "cell_type": "markdown",
   "metadata": {},
   "source": [
    " Exercícios Práticos\n",
    "📌 1. Carregar um CSV e modificar os nomes das colunas\n",
    "🔹 Baixe um arquivo CSV chamado \"clientes.csv\" com as colunas:\n",
    "id, nome, idade, cidade, compras\n",
    "\n",
    "✅ Tarefa:\n",
    "\n",
    "Carregue o CSV no Pandas.\n",
    "Modifique os nomes das colunas para: \"ID\", \"Nome\", \"Idade\", \"Cidade\", \"Total_Compras\".\n",
    "Salve o arquivo como \"clientes_modificado.csv\".\n"
   ]
  },
  {
   "cell_type": "code",
   "execution_count": 40,
   "metadata": {},
   "outputs": [
    {
     "name": "stdout",
     "output_type": "stream",
     "text": [
      "   ID   NAMES  AGES      CITY  shopping\n",
      "0   1    Joao    20       sbo      2000\n",
      "1   2   Pedro    30  bragança    500000\n",
      "2   3  Robert    40       sbo      2123\n",
      "3   4  Stenis    20   turquia   2103023\n"
     ]
    }
   ],
   "source": [
    "df2 = df2.rename(columns={'id':'ID', 'nomes':'NAMES', 'idade':'AGES', 'cidade': 'CITY', 'compras': 'shopping'})\n",
    "print(df2)"
   ]
  },
  {
   "cell_type": "code",
   "execution_count": 43,
   "metadata": {},
   "outputs": [
    {
     "name": "stdout",
     "output_type": "stream",
     "text": [
      "separador:  ,\n"
     ]
    }
   ],
   "source": [
    "import csv\n",
    "with open(url2, 'r') as f:\n",
    "    dialect = csv.Sniffer().sniff(f.read(1024))\n",
    "    print('separador: ', dialect.delimiter)"
   ]
  },
  {
   "cell_type": "code",
   "execution_count": null,
   "metadata": {},
   "outputs": [],
   "source": []
  }
 ],
 "metadata": {
  "kernelspec": {
   "display_name": "Python 3",
   "language": "python",
   "name": "python3"
  },
  "language_info": {
   "codemirror_mode": {
    "name": "ipython",
    "version": 3
   },
   "file_extension": ".py",
   "mimetype": "text/x-python",
   "name": "python",
   "nbconvert_exporter": "python",
   "pygments_lexer": "ipython3",
   "version": "3.13.1"
  }
 },
 "nbformat": 4,
 "nbformat_minor": 2
}
