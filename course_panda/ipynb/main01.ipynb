{
 "cells": [
  {
   "cell_type": "code",
   "execution_count": null,
   "metadata": {},
   "outputs": [
    {
     "name": "stdout",
     "output_type": "stream",
     "text": [
      "oi\n",
      "   id   nomes  idade    cidade  compras\n",
      "0   1    Joao     20       sbo     2000\n",
      "1   2   Pedro     30  bragança   500000\n",
      "2   3  Robert     40       sbo     2123\n",
      "3   4  Stenis     20   turquia  2103023\n"
     ]
    }
   ],
   "source": [
    "import pandas as pd\n",
    "print('oi')\n",
    "\n",
    "url = '../csvs/clientes.csv'\n",
    "table = pd.read_csv(url, sep=\",\")\n",
    "print(table.head())\n",
    "\n"
   ]
  },
  {
   "cell_type": "markdown",
   "metadata": {},
   "source": [
    "Salve um novo CSV trocando o separador para ,."
   ]
  },
  {
   "cell_type": "code",
   "execution_count": 6,
   "metadata": {},
   "outputs": [],
   "source": [
    "table.to_csv('separate.csv', index=False, sep=\",\")"
   ]
  },
  {
   "cell_type": "markdown",
   "metadata": {},
   "source": [
    "Carregue o arquivo \"sem_cabecalho.csv\", que não tem nomes de colunas.\n",
    "Defina manualmente os nomes das colunas como: \"Produto\", \"Preço\", \"Quantidade\", \"Data\".\n",
    "Salve o arquivo corrigido como \"sem_cabecalho_corrigido.csv\"."
   ]
  },
  {
   "cell_type": "code",
   "execution_count": 18,
   "metadata": {},
   "outputs": [],
   "source": [
    "cabecalho = pd.read_csv('../csvs/clientes.csv', sep=',')\n",
    "cabecalho.to_csv('without_header.csv', sep=\",\", header=None)\n",
    "\n",
    "\n"
   ]
  },
  {
   "cell_type": "code",
   "execution_count": 21,
   "metadata": {},
   "outputs": [
    {
     "name": "stdout",
     "output_type": "stream",
     "text": [
      "   id   nomes  idade    cidade  compras\n",
      "0   1    Joao     20       sbo     2000\n",
      "1   2   Pedro     30  bragança   500000\n",
      "2   3  Robert     40       sbo     2123\n",
      "3   4  Stenis     20   turquia  2103023\n"
     ]
    }
   ],
   "source": [
    "print(table)\n",
    "table['cidade'].to_csv('cidades.csv', index=False, sep=',')"
   ]
  }
 ],
 "metadata": {
  "kernelspec": {
   "display_name": "Python 3",
   "language": "python",
   "name": "python3"
  },
  "language_info": {
   "codemirror_mode": {
    "name": "ipython",
    "version": 3
   },
   "file_extension": ".py",
   "mimetype": "text/x-python",
   "name": "python",
   "nbconvert_exporter": "python",
   "pygments_lexer": "ipython3",
   "version": "3.13.1"
  }
 },
 "nbformat": 4,
 "nbformat_minor": 2
}
